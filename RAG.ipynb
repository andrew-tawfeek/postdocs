{
 "cells": [
  {
   "cell_type": "code",
   "execution_count": 2,
   "id": "fe1ddf7d",
   "metadata": {},
   "outputs": [],
   "source": [
    "from RAG import *"
   ]
  },
  {
   "cell_type": "code",
   "execution_count": 3,
   "id": "7f3c9539",
   "metadata": {},
   "outputs": [
    {
     "name": "stdout",
     "output_type": "stream",
     "text": [
      "Adding https://www.mathjobs.org/jobs/list/27003...\n",
      "✓ Added 6 chunks\n"
     ]
    }
   ],
   "source": [
    "add_urls([\"https://www.mathjobs.org/jobs/list/27003\"])"
   ]
  },
  {
   "cell_type": "code",
   "execution_count": 4,
   "id": "e1fd7ce6",
   "metadata": {},
   "outputs": [
    {
     "name": "stdout",
     "output_type": "stream",
     "text": [
      "{\n",
      "  \"applications\": [\n",
      "    {\n",
      "      \"id\": 1,\n",
      "      \"school\": \"Rice University\",\n",
      "      \"position\": \"Assistant Professor\",\n",
      "      \"title\": \"\",\n",
      "      \"location\": \"Houston, Texas 77005, United States of America\",\n",
      "      \"deadline\": \"2025-10-10\",\n",
      "      \"link\": \"https://www.mathjobs.org/jobs/list/27003\",\n",
      "      \"comments\": \"\",\n",
      "      \"numRefs\": 4,\n",
      "      \"status\": \"pending\",\n",
      "      \"contact\": \"\",\n",
      "      \"connections\": \"\",\n",
      "      \"refs\": {},\n",
      "      \"materials\": {\n",
      "        \"cover\": true,\n",
      "        \"cv\": true,\n",
      "        \"research\": true,\n",
      "        \"teaching\": true,\n",
      "        \"diversity\": true,\n",
      "        \"publications\": false,\n",
      "        \"course evals\": false,\n",
      "        \"unique research statement\": false\n",
      "      },\n",
      "      \"customFieldValues\": {},\n",
      "      \"customChecklistValues\": {}\n",
      "    }\n",
      "  ],\n",
      "  \"config\": {\n",
      "    \"referenceWriters\": [],\n",
      "    \"materials\": [\n",
      "      \"cover\",\n",
      "      \"cv\",\n",
      "      \"research\",\n",
      "      \"teaching\",\n",
      "      \"diversity\",\n",
      "      \"publications\",\n",
      "      \"course evals\",\n",
      "      \"unique research statement\"\n",
      "    ],\n",
      "    \"statusOptions\": [\n",
      "      \"pending\",\n",
      "      \"in-progress\",\n",
      "      \"submitted\"\n",
      "    ],\n",
      "    \"customFields\": [],\n",
      "    \"customChecklists\": []\n",
      "  }\n",
      "}\n"
     ]
    }
   ],
   "source": [
    "json() "
   ]
  },
  {
   "cell_type": "code",
   "execution_count": null,
   "id": "2f825e45",
   "metadata": {},
   "outputs": [],
   "source": []
  }
 ],
 "metadata": {
  "kernelspec": {
   "display_name": "Python 3",
   "language": "python",
   "name": "python3"
  },
  "language_info": {
   "codemirror_mode": {
    "name": "ipython",
    "version": 3
   },
   "file_extension": ".py",
   "mimetype": "text/x-python",
   "name": "python",
   "nbconvert_exporter": "python",
   "pygments_lexer": "ipython3",
   "version": "3.9.6"
  }
 },
 "nbformat": 4,
 "nbformat_minor": 5
}
